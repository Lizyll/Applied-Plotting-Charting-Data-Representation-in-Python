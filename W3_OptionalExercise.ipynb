{
 "cells": [
  {
   "cell_type": "code",
   "execution_count": 1,
   "metadata": {},
   "outputs": [],
   "source": [
    "import matplotlib.pyplot as plt\n",
    "import numpy as np\n",
    "import matplotlib.animation as animation\n",
    "\n",
    "def update(curr):\n",
    "    if curr == 100:\n",
    "        a.event_source.stop()\n",
    "    for i in range(len(axs)):\n",
    "        axs[i].cla()\n",
    "        axs[i].hist(x[i][:100*curr], density=True, bins=bins, alpha=0.5)\n",
    "        axs[i].axis(axis[i])\n",
    "        axs[i].set_title(names[i] + ' Distribution', fontsize=10)\n",
    "        axs[i].set_ylabel('Normed Frequency', fontsize=9)\n",
    "        axs[i].set_xlabel('Value', fontsize=9)\n",
    "        axs[i].annotate('n = {}'.format(100*curr), xy=[anno_x[i], 0.45])\n",
    "        axs[i].tick_params(axis='both', which='major', labelsize=8)\n",
    "        axs[i].tick_params(axis='both', which='minor', labelsize=8)\n",
    "    plt.tight_layout()"
   ]
  },
  {
   "cell_type": "code",
   "execution_count": 3,
   "metadata": {},
   "outputs": [
    {
     "data": {
      "text/plain": [
       "Text(15.537314000845658, 0.5, 'x4\\nUniform')"
      ]
     },
     "execution_count": 3,
     "metadata": {},
     "output_type": "execute_result"
    },
    {
     "data": {
      "image/png": "[encoded data removed]",
      "text/plain": [
       "<Figure size 648x216 with 1 Axes>"
      ]
     },
     "metadata": {
      "needs_background": "light"
     },
     "output_type": "display_data"
    }
   ],
   "source": [
    "# generate 4 random variables from the random, gamma, exponential, and uniform distributions\n",
    "x1 = np.random.normal(-2.5, 1, 10000)\n",
    "x2 = np.random.gamma(2, 1.5, 10000)\n",
    "x3 = np.random.exponential(2, 10000)+7\n",
    "x4 = np.random.uniform(14,20, 10000)\n",
    "\n",
    "# original plot\n",
    "# plot the histograms\n",
    "plt.figure(figsize=(9,3))\n",
    "plt.hist(x1, density=True, bins=20, alpha=0.5)\n",
    "plt.hist(x2, density=True, bins=20, alpha=0.5)\n",
    "plt.hist(x3, density=True, bins=20, alpha=0.5)\n",
    "plt.hist(x4, density=True, bins=20, alpha=0.5);\n",
    "plt.axis([-7,21,0,0.6])\n",
    "\n",
    "plt.text(x1.mean()-1.5, 0.5, 'x1\\nNormal')\n",
    "plt.text(x2.mean()-1.5, 0.5, 'x2\\nGamma')\n",
    "plt.text(x3.mean()-1.5, 0.5, 'x3\\nExponential')\n",
    "plt.text(x4.mean()-1.5, 0.5, 'x4\\nUniform')"
   ]
  },
  {
   "cell_type": "code",
   "execution_count": 4,
   "metadata": {},
   "outputs": [
    {
     "data": {
      "image/png": "[encoded data removed]",
      "text/plain": [
       "<Figure size 432x288 with 4 Axes>"
      ]
     },
     "metadata": {
      "needs_background": "light"
     },
     "output_type": "display_data"
    }
   ],
   "source": [
    "x = [x1, x2, x3, x4]\n",
    "names = ['Normal', 'Gamma', 'Exponential', 'Uniform']\n",
    "\n",
    "# set different ranges of the subplots\n",
    "# x in 12, y in 0.5\n",
    "axis1 = [-10, 2, 0, 0.5]\n",
    "axis2 = [-1, 11, 0, 0.5]\n",
    "axis3 = [7, 19, 0, 0.5]\n",
    "axis4 = [12, 24, 0, 0.5]\n",
    "axis = [axis1, axis2, axis3, axis4]\n",
    "\n",
    "bins = 20\n",
    "\n",
    "fig, ((ax1, ax2), (ax3, ax4)) = plt.subplots(2, 2)\n",
    "axs = [ax1, ax2, ax3, ax4]\n",
    "\n",
    "# set the n = ? position\n",
    "anno_x = [-2, 7, 15, 20]\n",
    "\n",
    "a = animation.FuncAnimation(fig, update, interval=100)\n",
    "plt.show()"
   ]
  },
  {
   "cell_type": "code",
   "execution_count": null,
   "metadata": {},
   "outputs": [],
   "source": []
  }
 ],
 "metadata": {
  "kernelspec": {
   "display_name": "Python 3",
   "language": "python",
   "name": "python3"
  },
  "language_info": {
   "codemirror_mode": {
    "name": "ipython",
    "version": 3
   },
   "file_extension": ".py",
   "mimetype": "text/x-python",
   "name": "python",
   "nbconvert_exporter": "python",
   "pygments_lexer": "ipython3",
   "version": "3.7.4"
  }
 },
 "nbformat": 4,
 "nbformat_minor": 2
}
